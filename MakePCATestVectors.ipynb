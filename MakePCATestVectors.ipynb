{
 "cells": [
  {
   "cell_type": "code",
   "execution_count": null,
   "id": "0c0704a2",
   "metadata": {},
   "outputs": [],
   "source": [
    "import numpy as np\n",
    "import re"
   ]
  },
  {
   "cell_type": "code",
   "execution_count": null,
   "id": "fc3c03cb",
   "metadata": {},
   "outputs": [],
   "source": [
    "def loadPCAWeightsFromSV(fName,nbits=12):\n",
    "    pca_weights=np.zeros(30*1024).reshape(30,32,32)\n",
    "\n",
    "    regex_in=re.compile(f\"^assign weights_in\\[(\\d*)\\]\\[(\\d*)\\]\\[(\\d*)\\] = {nbits}'b(\\d*);\")\n",
    "\n",
    "    with open(fName,'r') as _file:\n",
    "        for line in _file:\n",
    "            m=regex_in.match(line)\n",
    "            if m:\n",
    "                i,j,k,v=m.groups()\n",
    "                v=int(v,2)\n",
    "                v = (-1*(v>>11)*2**11 + (v&0x7ff))/2**11\n",
    "                pca_weights[int(i)][int(j)][int(k)]=v\n",
    "\n",
    "    return pca_weights"
   ]
  },
  {
   "cell_type": "code",
   "execution_count": null,
   "id": "41f93719",
   "metadata": {},
   "outputs": [],
   "source": [
    "def loadPCAInputsFromSV(fName):\n",
    "    pcaInputs=np.zeros(1024).reshape(32,32)\n",
    "\n",
    "    regex_in=re.compile(\"^assign pca_data_in_10b\\[(\\d*)\\]\\[(\\d*)\\] = 10'b(\\d*);\")\n",
    "\n",
    "    with open(fName,'r') as _file:\n",
    "        for line in _file:\n",
    "            m=regex_in.match(line)\n",
    "            if m:\n",
    "                i,j,v=m.groups()\n",
    "                v=int(v,2)\n",
    "                pcaInputs[int(i)][int(j)]=v\n",
    "\n",
    "    return pcaInputs"
   ]
  },
  {
   "cell_type": "code",
   "execution_count": null,
   "id": "ecf8b37f",
   "metadata": {},
   "outputs": [],
   "source": [
    "def toTwosCompliment(x,N=11,M=0,doRounding=False):\n",
    "    if doRounding:\n",
    "        y=round(x*2**N)\n",
    "    else:\n",
    "        y=int(x*2**N)\n",
    "    if y < 0:\n",
    "        return f\"{M+N+1}'b1\"+f\"{(2**(N+M)+y):0b}\".zfill(M+N)\n",
    "    else:\n",
    "        return f\"{M+N+1}'b{y:0b}\"\n",
    "\n",
    "toTwosCompliment=np.vectorize(toTwosCompliment)"
   ]
  },
  {
   "cell_type": "code",
   "execution_count": null,
   "id": "f025b36f",
   "metadata": {},
   "outputs": [],
   "source": [
    "R_inv_float=np.load('mandrill_140/inv_R_matrix_float32.npy')[:,:30]*32\n"
   ]
  },
  {
   "cell_type": "code",
   "execution_count": null,
   "id": "a6e2f4b8",
   "metadata": {},
   "outputs": [],
   "source": [
    "pcaWeights=loadPCAWeightsFromSV('svData/PCA_weightsInput_Original.sv')\n",
    "pcaWeights=pcaWeights.reshape(30,1024).T\n"
   ]
  },
  {
   "cell_type": "code",
   "execution_count": null,
   "id": "87101568",
   "metadata": {},
   "outputs": [],
   "source": [
    "pcaInputs=loadPCAInputsFromSV('svData/testVectors_0.sv')\n"
   ]
  },
  {
   "cell_type": "code",
   "execution_count": null,
   "id": "68c7b390",
   "metadata": {},
   "outputs": [],
   "source": [
    "np.matmul(pcaInputs.flatten(),pcaWeights)"
   ]
  },
  {
   "cell_type": "code",
   "execution_count": null,
   "id": "71b4fcaa",
   "metadata": {},
   "outputs": [],
   "source": [
    "np.matmul(pcaInputs.flatten(),pcaWeights)*2**11"
   ]
  },
  {
   "cell_type": "code",
   "execution_count": null,
   "id": "bd4ca3f1",
   "metadata": {},
   "outputs": [],
   "source": [
    "output=((np.matmul(pcaInputs.flatten(),pcaWeights)*2**11).astype(int)>>10)\n",
    "output"
   ]
  },
  {
   "cell_type": "code",
   "execution_count": null,
   "id": "021eee5b",
   "metadata": {},
   "outputs": [],
   "source": [
    "twosOutput=toTwosCompliment(output,0,6)\n",
    "twosOutput"
   ]
  },
  {
   "cell_type": "code",
   "execution_count": null,
   "id": "987b9ba8",
   "metadata": {},
   "outputs": [],
   "source": [
    "for n in range(0,601,100):\n",
    "    lines = \"\"\n",
    "    with open(f'svData/testVectors_{n}.sv','r') as _file:\n",
    "        #drop old 19 b pca values\n",
    "        for l in _file:\n",
    "            if '// 19b PCA outputs' in l:\n",
    "                continue\n",
    "            if 'output from original PCA weights' in l:\n",
    "                continue\n",
    "            if 'pca_output' in l:\n",
    "                continue\n",
    "            lines += l\n",
    "\n",
    "    print(n)\n",
    "    pcaInputs=loadPCAInputsFromSV(f'svData/testVectors_{n}.sv')\n",
    "    \n",
    "    output7=((np.matmul(pcaInputs.flatten(),pcaWeights)*2**11).astype(int)>>10)\n",
    "    twosOutput=toTwosCompliment(output7,0,6)\n",
    "    \n",
    "    lines+=\"// 7-bit output from original PCA weights (from Panpan)\\n\\n\"\n",
    "    for i,v in enumerate(twosOutput):\n",
    "        lines += f\"assign pca_output_orig_7b[{i}] = {v};\\n\"\n",
    "    lines += '\\n\\n'\n",
    "    \n",
    "    output19=((np.matmul(pcaInputs.flatten(),pcaWeights)*2**11).astype(int))\n",
    "    twosOutput=toTwosCompliment(output19,0,18)\n",
    "    \n",
    "    lines+=\"// 19-bit output from original PCA weights (from Panpan)\\n\\n\"\n",
    "    for i,v in enumerate(twosOutput):\n",
    "        lines += f\"assign pca_output_orig_19b[{i}] = {v};\\n\"\n",
    "    lines += '\\n\\n'\n",
    "    \n",
    "    with open(f'svData/testVectors_{n}.sv','w') as _file:\n",
    "        _file.write(lines)\n",
    "\n",
    "    l=', '.join([f'{x/2:.1f}' for x in output7])\n",
    "    with open(f'svData/dataOut_{n}_Q7.6.dat','w') as _file:\n",
    "        _file.write(l)\n",
    "\n",
    "    l=', '.join([f'{x/2**11:.11f}' for x in output19])\n",
    "    with open(f'svData/dataOut_{n}_Q19.8.dat','w') as _file:\n",
    "        _file.write(l)"
   ]
  },
  {
   "cell_type": "code",
   "execution_count": null,
   "id": "d17ca21e",
   "metadata": {},
   "outputs": [],
   "source": []
  },
  {
   "cell_type": "code",
   "execution_count": null,
   "id": "c327a3b1",
   "metadata": {},
   "outputs": [],
   "source": []
  },
  {
   "cell_type": "code",
   "execution_count": null,
   "id": "5827a44c",
   "metadata": {},
   "outputs": [],
   "source": [
    "#generate weights data file as floats\n",
    "lines = \"\"\n",
    "for l in pcaWeights.T:\n",
    "    lines += ', '.join([str(x) for x in l])  + \"\\n\"\n",
    "with open('svData/PCA_weightsInput_Original.dat','w') as _file:\n",
    "    _file.write(lines[:-1])"
   ]
  },
  {
   "cell_type": "code",
   "execution_count": null,
   "id": "fdbe307e",
   "metadata": {},
   "outputs": [],
   "source": []
  },
  {
   "cell_type": "code",
   "execution_count": null,
   "id": "57692979",
   "metadata": {},
   "outputs": [],
   "source": []
  },
  {
   "cell_type": "code",
   "execution_count": null,
   "id": "cc293e9d",
   "metadata": {},
   "outputs": [],
   "source": []
  }
 ],
 "metadata": {
  "kernelspec": {
   "display_name": "Python 3 (ipykernel)",
   "language": "python",
   "name": "python3"
  },
  "language_info": {
   "codemirror_mode": {
    "name": "ipython",
    "version": 3
   },
   "file_extension": ".py",
   "mimetype": "text/x-python",
   "name": "python",
   "nbconvert_exporter": "python",
   "pygments_lexer": "ipython3",
   "version": "3.8.9"
  }
 },
 "nbformat": 4,
 "nbformat_minor": 5
}
